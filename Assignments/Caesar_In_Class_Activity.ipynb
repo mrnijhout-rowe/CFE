{
  "nbformat": 4,
  "nbformat_minor": 0,
  "metadata": {
    "colab": {
      "provenance": []
    },
    "kernelspec": {
      "name": "python3",
      "display_name": "Python 3"
    },
    "language_info": {
      "name": "python"
    }
  },
  "cells": [
    {
      "cell_type": "markdown",
      "source": [
        "**Before you begin, click \"File\" then \"Save a copy to Drive\" Go ahead and put your name in the beginning of the filename instead of \"Copy of\" For example mine could be \"DNijhoutRowe_Caesar_Cipher_Activity.ipynb\"**\n",
        "\n"
      ],
      "metadata": {
        "id": "N4kWqvsyvAw-"
      }
    },
    {
      "cell_type": "markdown",
      "source": [
        "# Preparing for Today's Activity\n",
        "\n",
        "## Upload Your File\n",
        "\n",
        "Before starting this activity, follow these steps to upload the text file (`this_is_text.txt`) into your Google Colab environment. The text in this file is the introduction to the book Winesburg, Ohio by Sherwood Anderson and was downloaded from the [Project Gutenberg](https://www.gutenberg.org/) site:\n",
        "\n",
        "\n",
        "1.   Download the file [here](https://drive.google.com/file/d/12mxp2Ibi5N4ABkLMu3tV-YNyaCdgZ8zt/view?usp=drive_link). After clicking the link, click the download arrow at top.\n",
        "2.   In your Colab notebook, click on the **folder icon** in the left sidebar.\n",
        "3.   Click the **Upload** icon (the arrow pointing upward).\n",
        "4.   Select the file named **`this_is_text.txt`** from the folder where it was downloaded.\n",
        "\n",
        "You're now ready for this activity!\n",
        "\n",
        "---\n",
        "\n",
        "## 🔹**Review: Reading the Contents of a File**\n",
        "\n",
        "**Instructions:**  \n",
        "In the code cell below, look at the Python code\n",
        "\n",
        "- First it opens the file `this_is_text.txt` and calls it `f` This is arbitrary, you can call it anything.\n",
        "- Then it reads its contents into a string called ```unedited_text```.\n",
        "\n",
        "**Make sure to run the cell below before continuing!**"
      ],
      "metadata": {
        "id": "xRn3zc3tzeBU"
      }
    },
    {
      "cell_type": "code",
      "source": [
        "# Open the file and read it into a string\n",
        "with open(\"this_is_text.txt\") as f:\n",
        "    undedited_text = f.read()"
      ],
      "metadata": {
        "id": "2HvGzztAzv2v"
      },
      "execution_count": 19,
      "outputs": []
    },
    {
      "cell_type": "markdown",
      "source": [
        "## 🔹 Cleaning a Text File\n",
        "\n",
        "We are working towards importing and cleaning data from CSV files, this is our next step on that journey.\n",
        "\n",
        "Today we will clean a text file to make it work for our activity, which will be to encode text using the Caesar Cipher.  The Caesar Cipher works by moving all of the letters in a message forwards or backwards a certain amount, for example if we encrypted the word **c o d e** with a key value of 2, the letter **c** would up two spaces in the alphabet and become the letter **E**, the letter **o** would become **Q**.  The word **c o d e** would become **E Q F G**\n",
        "\n",
        "#Step 1: Lowercase\n",
        "Our first step to make our text string easier to work with will be to make it all lower case.\n",
        "\n",
        "**Instructions:**\n",
        "\n",
        "Lets change `uneedited_text` to all lowercase and save that as a new string called `lower_text`. Print the new string to make sure that it has worked correctly.\n",
        "\n",
        "👇 **Try writing your code below:**"
      ],
      "metadata": {
        "id": "LNYLf3zapwoH"
      }
    },
    {
      "cell_type": "code",
      "source": [
        "#change the string undedited_text\n",
        "#to all lowercase\n",
        "lower_text = undedited_text.lower()\n",
        "\n",
        "#print the new string\n",
        "print(lower_text)"
      ],
      "metadata": {
        "id": "cIX7EH4qokbv",
        "colab": {
          "base_uri": "https://localhost:8080/"
        },
        "outputId": "263b52f3-0244-4340-b09e-8a73e679866b"
      },
      "execution_count": 20,
      "outputs": [
        {
          "output_type": "stream",
          "name": "stdout",
          "text": [
            "the writer, an old man with a white mustache, had some difficulty in getting into bed. the windows of the house in which he lived were high and he wanted to look at the trees when he awoke in the morning. a carpenter came to fix the bed so that it would be on a level with the window.\n",
            "quite a fuss was made about the matter. the carpenter, who had been a soldier in the civil war, came into the writer’s room and sat down to talk of building a platform for the purpose of raising the bed. the writer had cigars lying about and the carpenter smoked.\n",
            "for a time the two men talked of the raising of the bed and then they talked of other things. the soldier got on the subject of the war. the writer, in fact, led him to that subject. the carpenter had once been a prisoner in andersonville prison and had lost a brother. the brother had died of starvation, and whenever the carpenter got upon that subject he cried. he, like the old writer, had a white mustache, and when he cried he puckered up his lips and the mustache bobbed up and down. the weeping old man with the cigar in his mouth was ludicrous. the plan the writer had for the raising of his bed was forgotten and later the carpenter did it in his own way and the writer, who was past sixty, had to help himself with a chair when he went to bed at night.\n",
            "in his bed the writer rolled over on his side and lay quite still. for years he had been beset with notions concerning his heart. he was a hard smoker and his heart fluttered. the idea had got into his mind that he would some time die unexpectedly and always when he got into bed he thought of that. it did not alarm him. the effect in fact was quite a special thing and not easily explained. it made him more alive, there in bed, than at any other time. perfectly still he lay and his body was old and not of much use any more, but something inside him was altogether young. he was like a pregnant woman, only that the thing inside him was not a baby but a youth. no, it wasn’t a youth, it was a woman, young, and wearing a coat of mail like a knight. it is absurd, you see, to try to tell what was inside the old writer as he lay on his high bed and listened to the fluttering of his heart. the thing to get at is what the writer, or the young thing within the writer, was thinking about.\n",
            "the old writer, like all of the people in the world, had got, during his long life, a great many notions in his head. he had once been quite handsome and a number of women had been in love with him. and then, of course, he had known people, many people, known them in a peculiarly intimate way that was different from the way in which you and i know people. at least that is what the writer thought and the thought pleased him. why quarrel with an old man concerning his thoughts?\n",
            "in the bed the writer had a dream that was not a dream. as he grew somewhat sleepy but was still conscious, figures began to appear before his eyes. he imagined the young indescribable thing within himself was driving a long procession of figures before his eyes.\n",
            "you see the interest in all this lies in the figures that went before the eyes of the writer. they were all grotesques. all of the men and women the writer had ever known had become grotesques.\n",
            "the grotesques were not all horrible. some were amusing, some almost beautiful, and one, a woman all drawn out of shape, hurt the old man by her grotesqueness. when she passed he made a noise like a small dog whimpering. had you come into the room you might have supposed the old man had unpleasant dreams or perhaps indigestion.\n",
            "for an hour the procession of grotesques passed before the eyes of the old man, and then, although it was a painful thing to do, he crept out of bed and began to write. some one of the grotesques had made a deep impression on his mind and he wanted to describe it.\n",
            "at his desk the writer worked for an hour. in the end he wrote a book which he called “the book of the grotesque.” it was never published, but i saw it once and it made an indelible impression on my mind. the book had one central thought that is very strange and has always remained with me. by remembering it i have been able to understand many people and things that i was never able to understand before. the thought was involved but a simple statement of it would be something like this:\n",
            "that in the beginning when the world was young there were a great many thoughts but no such thing as a truth. man made the truths himself and each truth was a composite of a great many vague thoughts. all about in the world were the truths and they were all beautiful.\n",
            "the old man had listed hundreds of the truths in his book. i will not try to tell you of all of them. there was the truth of virginity and the truth of passion, the truth of wealth and of poverty, of thrift and of profligacy, of carelessness and abandon. hundreds and hundreds were the truths and they were all beautiful.\n",
            "and then the people came along. each as he appeared snatched up one of the truths and some who were quite strong snatched up a dozen of them.\n",
            "it was the truths that made the people grotesques. the old man had quite an elaborate theory concerning the matter. it was his notion that the moment one of the people took one of the truths to himself, called it his truth, and tried to live his life by it, he became a grotesque and the truth he embraced became a falsehood.\n",
            "you can see for yourself how the old man, who had spent all of his life writing and was filled with words, would write hundreds of pages concerning this matter. the subject would become so big in his mind that he himself would be in danger of becoming a grotesque. he didn’t, i suppose, for the same reason that he never published the book. it was the young thing inside him that saved the old man.\n",
            "concerning the old carpenter who fixed the bed for the writer, i only mentioned him because he, like many of what are called very common people, became the nearest thing to what is understandable and lovable of all the grotesques in the writer’s book.\n",
            "\n",
            "\n"
          ]
        }
      ]
    },
    {
      "cell_type": "markdown",
      "source": [
        "## 🔹 Cleaning a Text File\n",
        "\n",
        "Look at the print out of the string from your last code block. Is everything lowercase now? What else can we do to clean this file and make it easier to work with?\n",
        "\n",
        "#Step 2: Removing Everything That is Not a Letter\n",
        "\n",
        "Throughout this activity we will have to remember that a string is a list of characters. For an example of this look at this code:\n",
        "```python\n",
        "greeting = \"howdy\"\n",
        "print(greeting[2])\n",
        "```\n",
        "What will the output of that code be?\n",
        "```python\n",
        "w\n",
        "```\n",
        "One way to remove all of our non-letter characters would be to compare each character in our string to a list of allowed characters:\n",
        "```python\n",
        "letters = \"abcdefghijklmnopqrstuvwxyz\"\n",
        "```\n",
        "Lets do a test run first. In the code block below write a for loop that goes through the string ```this_text```, compares each character to the ones that are in our string letters and gets rid of any that are not in that string.\n",
        "\n",
        "👇 **Try writing your code below:**\n",
        "\n"
      ],
      "metadata": {
        "id": "YFOgtmxQ0Ft9"
      }
    },
    {
      "source": [
        "this_text = \"teachers around the world agree, senioritis is a real thing. affected students generally start displaying signs of this afflication in march of their senior year.\"\n",
        "new_text = \"\"\n",
        "letters = \"abcdefghijklmnopqrstuvwxyz\"\n",
        "\n",
        "#Put your for loop here then print\n",
        "#the new string, new_text, to see\n",
        "#if it worked.\n",
        "\n",
        "\n"
      ],
      "cell_type": "code",
      "metadata": {
        "id": "evvN1Jo5ocDe"
      },
      "execution_count": 12,
      "outputs": []
    },
    {
      "cell_type": "markdown",
      "source": [
        "OK, now see if you can do the same thing with our string ```lower_text```\n",
        "\n",
        "👇 **Try writing your code below:**\n",
        "\n"
      ],
      "metadata": {
        "id": "1ismEyV1PTwE"
      }
    },
    {
      "cell_type": "code",
      "source": [
        "clean_text = \"\"\n",
        "letters = \"abcdefghijklmnopqrstuvwxyz\"\n"
      ],
      "metadata": {
        "id": "Lihuzw4FRVbr"
      },
      "execution_count": null,
      "outputs": []
    },
    {
      "cell_type": "markdown",
      "source": [
        "## 🔹 Step 3: Finding the Letter Location\n",
        "Now we are getting somewhere. We have a string called ```clean_text``` that contains just lowercase letters. All of the spaces and punctuation have been removed. But, how do we encrypt our message?\n",
        "\n",
        "Remember that the Caesar Cipher encryptions is accompished by finding the location of each letter in the alphabet, then adding (or subtracting) that location by a set amount. But, how can the computer figure out that the letter 'c' is at location 2? By using our ```letters``` string and the ```index()``` method.\n",
        "\n",
        "👇 **Try this code block:**"
      ],
      "metadata": {
        "id": "Oon_bkDFt2-5"
      }
    },
    {
      "cell_type": "code",
      "source": [
        "letters = \"abcdefghijklmnopqrstuvwxyz\"\n",
        "print(letters.index(\"c\"))\n"
      ],
      "metadata": {
        "id": "TE3scs0ut_sA"
      },
      "execution_count": null,
      "outputs": []
    },
    {
      "cell_type": "markdown",
      "source": [
        "👇 **Now, try this one:**"
      ],
      "metadata": {
        "id": "TyMecubCaV8o"
      }
    },
    {
      "cell_type": "code",
      "source": [
        "letters = \"abcdefghijklmnopqrstuvwxyz\"\n",
        "char = \"c\"\n",
        "print(letters.index(char))"
      ],
      "metadata": {
        "id": "1en6nnzIaa7X"
      },
      "execution_count": null,
      "outputs": []
    },
    {
      "cell_type": "markdown",
      "source": [
        "Using the starter code below, create a list of the location of each letter in ```this_text```"
      ],
      "metadata": {
        "id": "R6dnq81na7gT"
      }
    },
    {
      "cell_type": "code",
      "source": [
        "this_clean_text = \"teachersaroundtheworldagreesenioritisisarealthingaffectedstudentsgenerallystartdisplayingsignsofthisafflicationinmarchoftheirsenioryear\"\n",
        "letters = \"abcdefghijklmnopqrstuvwxyz\"\n",
        "letter_locations = []\n",
        "#Create a for loop that goes through\n",
        "#Each character in this_clean_text\n",
        "#And adds its index to the list\n",
        "#letter_locations\n"
      ],
      "metadata": {
        "id": "wcGdmaU92zev"
      },
      "execution_count": null,
      "outputs": []
    },
    {
      "cell_type": "markdown",
      "source": [
        "## 🔹 Step 5: Adding Your Encryption Key\n",
        "\n",
        "Now that we've got a list of the index value of each character in our original message you need to go through that list and add your encryption key to each value. If you want to shift each letter forward by 5, you would add 5 to each value. Backwards by 12? You would subtract 12 from each value.\n",
        "\n",
        "👇 **Try writing your code below:**"
      ],
      "metadata": {
        "id": "IWfPkwIXv67L"
      }
    },
    {
      "cell_type": "code",
      "source": [
        "# Use the letter_locations list you created\n",
        "# create an encrypted_locations list\n",
        "encrypted_locations=[]\n"
      ],
      "metadata": {
        "id": "n3OFyViQvVgK"
      },
      "execution_count": null,
      "outputs": []
    },
    {
      "cell_type": "markdown",
      "source": [
        "## 🔹 Step 6: Displaying Your Encrypted Message\n",
        "\n",
        "Now that you have the location of your encrypted letters, lets put them together into a string. Here is a hint, this code:\n",
        "```python\n",
        "letters = \"abcdefghijklmnopqrstuvwxyz\"\n",
        "sample_message = \"\"\n",
        "sample_message += letters[4]\n",
        "sample_message += letters[16]\n",
        "sample_message += letters[5]\n",
        "sample_message += letters[6]\n",
        "\n",
        "print(sample_message)\n",
        "```\n",
        "Will have this output:\n",
        "```python\n",
        "eqfg\n",
        "```\n",
        "That code printed out the encrypted version of the word *code* we created at the start of this activity. You will need to loop through your list of encrypted character locations to create your encrypted message.\n",
        "\n",
        "**More than likely you will get an error!**\n",
        "\n",
        "👇 **Try writing your code below:**"
      ],
      "metadata": {
        "id": "vjnX7vkkd7Zh"
      }
    },
    {
      "cell_type": "code",
      "source": [
        "letters = \"abcdefghijklmnopqrstuvwxyz\"\n",
        "encrypted_message = \"\"\n"
      ],
      "metadata": {
        "id": "cHWOGy1XeajO"
      },
      "execution_count": null,
      "outputs": []
    },
    {
      "cell_type": "markdown",
      "source": [
        "## 🔹 Challenge Goal: Group Into Blocks of Five\n",
        "To make your encrypted message look cooler and more spy-like:\n",
        "\n",
        "\n",
        "- Convert the encrypted text to uppercase.\n",
        "\n",
        "- Break it into chunks of 5 letters with spaces between them.\n",
        "\n",
        "\n",
        "Example:\n",
        "```python\n",
        "attackatdawn\n",
        "```\n",
        "becomes\n",
        "```pythong\n",
        "ATTAC KATDA WN\n",
        "```"
      ],
      "metadata": {
        "id": "MAgBO6Cxd1DJ"
      }
    }
  ]
}