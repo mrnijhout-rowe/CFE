{
  "nbformat": 4,
  "nbformat_minor": 0,
  "metadata": {
    "colab": {
      "provenance": []
    },
    "kernelspec": {
      "name": "python3",
      "display_name": "Python 3"
    },
    "language_info": {
      "name": "python"
    }
  },
  "cells": [
    {
      "cell_type": "markdown",
      "source": [
        "👥 CLASS EXAMPLES\n",
        "\n",
        "🔹 Example 1: Access and Print Specific Elements\n",
        "Objective: Build a mental model of rows and columns (indexes).\n",
        "\n",
        "Starter Code:"
      ],
      "metadata": {
        "id": "aNSyW6OUw-wF"
      }
    },
    {
      "cell_type": "code",
      "execution_count": null,
      "metadata": {
        "id": "ZQnzXUQOwzPD"
      },
      "outputs": [],
      "source": [
        "grid = [\n",
        "    [1,   2,  3],\n",
        "    [4,   5,  6],\n",
        "    [7,   8,  9],\n",
        "    [10, 11, 12]\n",
        "]\n",
        "print(grid)\n",
        "\n",
        "'''\n",
        "print(len(grid[1])) # What will this print?\n",
        "print(len(grid))    # And this?\n",
        "print(grid[0][1])  # And this?\n",
        "print(grid[2][0])  # And this?\n",
        "'''"
      ]
    },
    {
      "cell_type": "markdown",
      "source": [
        "- Rows are the first index.\n",
        "- Columns are the second index.\n",
        "- ```grid[1]``` is ```[4, 5, 6]```, and ```grid[1][2]``` is ```6```.\n",
        "\n",
        "Follow-Up: Change the center element to 0. Print the whole grid again."
      ],
      "metadata": {
        "id": "KTAkKKbJxJAx"
      }
    },
    {
      "cell_type": "markdown",
      "source": [
        "🔹 Example 2: Loop Through and Print as Grid\n",
        "Objective: Use nested loops to process a 2D list row by row.\n",
        "\n",
        "Starter Code:"
      ],
      "metadata": {
        "id": "mFfA3lMsxb88"
      }
    },
    {
      "cell_type": "code",
      "source": [
        "grid = [\n",
        "    [1, 2, 3],\n",
        "    [4, 5, 6],\n",
        "    [7, 8, 9]\n",
        "]\n",
        "\n",
        "for row in grid:\n",
        "    for item in row:\n",
        "        print(item, end=\" \")\n",
        "    print()  # Newline after each row\n"
      ],
      "metadata": {
        "id": "xWZt_pqXxeH-"
      },
      "execution_count": null,
      "outputs": []
    },
    {
      "cell_type": "markdown",
      "source": [
        "Follow-Up Challenge: Only print even numbers in the grid."
      ],
      "metadata": {
        "id": "BD0VyROrxix7"
      }
    }
  ]
}