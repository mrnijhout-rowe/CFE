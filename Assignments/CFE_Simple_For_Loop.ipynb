{
  "nbformat": 4,
  "nbformat_minor": 0,
  "metadata": {
    "colab": {
      "provenance": []
    },
    "kernelspec": {
      "name": "python3",
      "display_name": "Python 3"
    },
    "language_info": {
      "name": "python"
    }
  },
  "cells": [
    {
      "cell_type": "code",
      "execution_count": null,
      "metadata": {
        "id": "sJEzvDqsySSY"
      },
      "outputs": [],
      "source": [
        "# Your Name\n",
        "# Date\n",
        "# Assignment: List & Loop Practice\n",
        "\n",
        "def main():\n",
        "    # Step 1: Create your list 'numbers'\n",
        "\n",
        "    # Step 2: Loop through the list and print each number squared\n",
        "\n",
        "    # Step 3: Print the sum of the squared numbers\n",
        "\n",
        "\n",
        "if __name__ == \"__main__\":\n",
        "    main()"
      ]
    }
  ]
}
