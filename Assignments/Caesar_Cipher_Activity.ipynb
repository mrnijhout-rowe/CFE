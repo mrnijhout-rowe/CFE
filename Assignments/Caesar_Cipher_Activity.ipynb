{
  "nbformat": 4,
  "nbformat_minor": 0,
  "metadata": {
    "colab": {
      "provenance": []
    },
    "kernelspec": {
      "name": "python3",
      "display_name": "Python 3"
    },
    "language_info": {
      "name": "python"
    }
  },
  "cells": [
    {
      "cell_type": "markdown",
      "source": [
        "**Before you begin, click \"File\" then \"Save a copy to Drive\" Go ahead and put your name in the beginning of the filename instead of \"Copy of\" For example mine could be \"DNijhoutRowe_Caesar_Cipher_Activity.ipynb\"**\n",
        "\n"
      ],
      "metadata": {
        "id": "N4kWqvsyvAw-"
      }
    },
    {
      "cell_type": "markdown",
      "source": [
        "# Preparing for Today's Activity\n",
        "\n",
        "## Upload Your File\n",
        "\n",
        "Before starting this activity, follow these steps to upload the text file (`this_is_text.txt`) into your Google Colab environment. The text in this file is the introduction to the book Winesburg, Ohio by Sherwood Anderson and was downloaded from the [Project Gutenberg](https://www.gutenberg.org/) site:\n",
        "\n",
        "\n",
        "1.   Download the file [here](https://drive.google.com/file/d/12mxp2Ibi5N4ABkLMu3tV-YNyaCdgZ8zt/view?usp=drive_link). After clicking the link, click the download arrow at top.\n",
        "2.   In your Colab notebook, click on the **folder icon** in the left sidebar.\n",
        "3.   Click the **Upload** icon (the arrow pointing upward).\n",
        "4.   Select the file named **`this_is_text.txt`** from the folder where it was downloaded.\n",
        "\n",
        "You're now ready for this activity!\n",
        "\n",
        "---\n",
        "\n",
        "## 🔹**Review: Reading the Contents of a File**\n",
        "\n",
        "**Instructions:**  \n",
        "In the code cell below, look at the Python code\n",
        "\n",
        "- First it opens the file `this_is_text.txt` and calls it `f` This is arbitrary, you can call it anything.\n",
        "- Then it reads its contents into a string called ```unedited_text```.\n",
        "\n",
        "**Make sure to run the cell below before continuing!**"
      ],
      "metadata": {
        "id": "xRn3zc3tzeBU"
      }
    },
    {
      "cell_type": "code",
      "source": [
        "# Open the file and read it into a string\n",
        "with open(\"this_is_text.txt\") as f:\n",
        "    undedited_text = f.read()"
      ],
      "metadata": {
        "id": "2HvGzztAzv2v"
      },
      "execution_count": 3,
      "outputs": []
    },
    {
      "cell_type": "markdown",
      "source": [
        "## 🔹 Cleaning a Text File\n",
        "\n",
        "We are working towards importing and cleaning data from CSV files, this is our next step on that journey.\n",
        "\n",
        "Today we will clean a text file to make it work for our activity, which will be to encode text using the Caesar Cipher.  The Caesar Cipher works by moving all of the letters in a message forwards or backwards a certain amount, for example if we encrypted the word **c o d e** with a key value of 2, the letter **c** would up two spaces in the alphabet and become the letter **E**, the letter **o** would become **N**.  The word **c o d e** would become **E N F G**\n",
        "\n",
        "Our first step to make our text string easier to work with will be to make it all lower case.\n",
        "\n",
        "**Instructions:**\n",
        "\n",
        "Lets change `uneedited_text` to all lowercase and save that as a new string called `lower_text`. Print the new string to make sure that it has worked correctly.\n",
        "\n",
        "👇 **Try writing your code below:**"
      ],
      "metadata": {
        "id": "LNYLf3zapwoH"
      }
    },
    {
      "cell_type": "code",
      "source": [
        "#change the string undedited_text\n",
        "#to all lowercase\n",
        "lower_text = undedited_text.lower()\n",
        "\n",
        "#print the new string\n",
        "print(lower_text)"
      ],
      "metadata": {
        "id": "cIX7EH4qokbv",
        "colab": {
          "base_uri": "https://localhost:8080/"
        },
        "outputId": "af6d9b10-8989-4c6c-b693-b56575977e72"
      },
      "execution_count": 5,
      "outputs": [
        {
          "output_type": "stream",
          "name": "stdout",
          "text": [
            "the writer, an old man with a white mustache, had some difficulty in getting into bed. the windows of the house in which he lived were high and he wanted to look at the trees when he awoke in the morning. a carpenter came to fix the bed so that it would be on a level with the window.\n",
            "quite a fuss was made about the matter. the carpenter, who had been a soldier in the civil war, came into the writer’s room and sat down to talk of building a platform for the purpose of raising the bed. the writer had cigars lying about and the carpenter smoked.\n",
            "for a time the two men talked of the raising of the bed and then they talked of other things. the soldier got on the subject of the war. the writer, in fact, led him to that subject. the carpenter had once been a prisoner in andersonville prison and had lost a brother. the brother had died of starvation, and whenever the carpenter got upon that subject he cried. he, like the old writer, had a white mustache, and when he cried he puckered up his lips and the mustache bobbed up and down. the weeping old man with the cigar in his mouth was ludicrous. the plan the writer had for the raising of his bed was forgotten and later the carpenter did it in his own way and the writer, who was past sixty, had to help himself with a chair when he went to bed at night.\n",
            "in his bed the writer rolled over on his side and lay quite still. for years he had been beset with notions concerning his heart. he was a hard smoker and his heart fluttered. the idea had got into his mind that he would some time die unexpectedly and always when he got into bed he thought of that. it did not alarm him. the effect in fact was quite a special thing and not easily explained. it made him more alive, there in bed, than at any other time. perfectly still he lay and his body was old and not of much use any more, but something inside him was altogether young. he was like a pregnant woman, only that the thing inside him was not a baby but a youth. no, it wasn’t a youth, it was a woman, young, and wearing a coat of mail like a knight. it is absurd, you see, to try to tell what was inside the old writer as he lay on his high bed and listened to the fluttering of his heart. the thing to get at is what the writer, or the young thing within the writer, was thinking about.\n",
            "the old writer, like all of the people in the world, had got, during his long life, a great many notions in his head. he had once been quite handsome and a number of women had been in love with him. and then, of course, he had known people, many people, known them in a peculiarly intimate way that was different from the way in which you and i know people. at least that is what the writer thought and the thought pleased him. why quarrel with an old man concerning his thoughts?\n",
            "in the bed the writer had a dream that was not a dream. as he grew somewhat sleepy but was still conscious, figures began to appear before his eyes. he imagined the young indescribable thing within himself was driving a long procession of figures before his eyes.\n",
            "you see the interest in all this lies in the figures that went before the eyes of the writer. they were all grotesques. all of the men and women the writer had ever known had become grotesques.\n",
            "the grotesques were not all horrible. some were amusing, some almost beautiful, and one, a woman all drawn out of shape, hurt the old man by her grotesqueness. when she passed he made a noise like a small dog whimpering. had you come into the room you might have supposed the old man had unpleasant dreams or perhaps indigestion.\n",
            "for an hour the procession of grotesques passed before the eyes of the old man, and then, although it was a painful thing to do, he crept out of bed and began to write. some one of the grotesques had made a deep impression on his mind and he wanted to describe it.\n",
            "at his desk the writer worked for an hour. in the end he wrote a book which he called “the book of the grotesque.” it was never published, but i saw it once and it made an indelible impression on my mind. the book had one central thought that is very strange and has always remained with me. by remembering it i have been able to understand many people and things that i was never able to understand before. the thought was involved but a simple statement of it would be something like this:\n",
            "that in the beginning when the world was young there were a great many thoughts but no such thing as a truth. man made the truths himself and each truth was a composite of a great many vague thoughts. all about in the world were the truths and they were all beautiful.\n",
            "the old man had listed hundreds of the truths in his book. i will not try to tell you of all of them. there was the truth of virginity and the truth of passion, the truth of wealth and of poverty, of thrift and of profligacy, of carelessness and abandon. hundreds and hundreds were the truths and they were all beautiful.\n",
            "and then the people came along. each as he appeared snatched up one of the truths and some who were quite strong snatched up a dozen of them.\n",
            "it was the truths that made the people grotesques. the old man had quite an elaborate theory concerning the matter. it was his notion that the moment one of the people took one of the truths to himself, called it his truth, and tried to live his life by it, he became a grotesque and the truth he embraced became a falsehood.\n",
            "you can see for yourself how the old man, who had spent all of his life writing and was filled with words, would write hundreds of pages concerning this matter. the subject would become so big in his mind that he himself would be in danger of becoming a grotesque. he didn’t, i suppose, for the same reason that he never published the book. it was the young thing inside him that saved the old man.\n",
            "concerning the old carpenter who fixed the bed for the writer, i only mentioned him because he, like many of what are called very common people, became the nearest thing to what is understandable and lovable of all the grotesques in the writer’s book.\n",
            "\n",
            "\n"
          ]
        }
      ]
    },
    {
      "cell_type": "markdown",
      "source": [
        "## 🔹 Cleaning a Text File\n",
        "\n",
        "We are working towards importing and cleaning data from CSV files, this is our next step on that journey.\n",
        "\n",
        "Today we will clean a text file to make it work for our activity, which will be to encode text using the Caesar Cipher.  The Caesar Cipher works by moving all of the letters in a message forwards or backwards a certain amount, for example if we encrypted the word **c o d e** with a key value of 2, the letter **c** would up two spaces in the alphabet and become the letter **E**, the letter **o** would become **N**.  The word **c o d e** would become **E N F G**\n",
        "\n",
        "Our first step to make our text string easier to work with will be to make it all lower case.\n",
        "\n",
        "**Instructions:**\n",
        "\n",
        "In this exercise, you'll learn how to count and print the total number of lines present in your text file.  \n",
        "\n",
        "We'll use the `readlines()` method.  \n",
        "\n",
        "- `readlines()` reads the lines of the file into a list. Each element of the list is a string that contains a single line from the file.  \n",
        "- The built-in `len()` function returns the number of items in an object, so calling it on the list of lines will give you the number of lines.\n",
        "\n",
        "**Your task is to add code to print the number of lines in the file.**\n",
        "\n",
        "👇 **Try writing your code below:**\n",
        "\n"
      ],
      "metadata": {
        "id": "YFOgtmxQ0Ft9"
      }
    },
    {
      "source": [
        "with open(\"this_is_text.txt\") as f:\n",
        "    lines = f.readlines()\n",
        "\n",
        "# Add code here to print the number of lines\n",
        "# If you do this correctly this should print\n",
        "# an integer, nothing else\n",
        "# Re-read the directions if you get stuck!\n"
      ],
      "cell_type": "code",
      "metadata": {
        "id": "evvN1Jo5ocDe"
      },
      "execution_count": null,
      "outputs": []
    },
    {
      "cell_type": "markdown",
      "source": [
        "## 🔹 Splitting Text into Words\n",
        "## Upload The Next File\n",
        "\n",
        "Before starting this activity, you will need to add the file `clean_text.txt` to your files. For this file I have changed all the letters to lower case and removed all of the punctuation; you already know how to make strings lowercase and you will learn more about \"cleaning\" files later.\n",
        "Follow the same directions you did for uploading the `this_is_text.txt` file.\n",
        "\n",
        "You're now ready for the first activity!\n",
        "\n",
        "**Instructions:**\n",
        "\n",
        "In this exercise, we'll learn how to split a text file into individual words. We'll use the file `clean_text.txt` for this task.\n",
        "\n",
        "We'll achieve this by using the `read()` method to read the entire file content into a single string and then the `split()` method to split the string into a list of words.\n",
        "\n",
        "- The `read()` method, as you know, reads the contents of the entire file into a single string.\n",
        "- The `split()` method, when called on a string, splits it into a list of substrings based on spaces (by default).\n",
        "\n",
        "**Your task is to write code to:**\n",
        "1. Read the contents of \"clean_text.txt\" into a string.\n",
        "2. Split the string into a list of words.\n",
        "3. Store the list of words in a variable named `words`.\n",
        "\n",
        "*Don't be afraid to play around a little, for example you can print out the list of words to see how it looks.*\n",
        "\n",
        "👇 **Try writing your code below:**"
      ],
      "metadata": {
        "id": "Oon_bkDFt2-5"
      }
    },
    {
      "cell_type": "code",
      "source": [
        "# No starter code this time, sorry!\n",
        "# Remember to start by opening and\n",
        "# reading your text file, remember\n",
        "# it is no longer 'this_is_text.txt'\n"
      ],
      "metadata": {
        "id": "TE3scs0ut_sA"
      },
      "execution_count": null,
      "outputs": []
    },
    {
      "cell_type": "markdown",
      "source": [
        "## 🔹 Creating a Dictionary of Word Counts\n",
        "\n",
        "***Hint: This exercise is A LOT like the Banana problem in the \"Getting Started With Dictionaries\" problem set. If you go open Google Colab in a different tab you can open that notebook and take a look at it.***\n",
        "\n",
        "**Instructions:**\n",
        "\n",
        "In this exercise, we'll combine what we've learned about splitting text into words and using dictionaries. Our goal is to create a dictionary where the **keys** are the individual words from the file \"clean_text.txt\" and the **values** are the number of times each word appears in the file.\n",
        "\n",
        "We'll achieve this by following these steps:\n",
        "\n",
        "1.  **Read and Split:** Read the contents of \"clean_text.txt\" into a string and split it into a list of words, just like you did in the previous exercise.\n",
        "2.  **Create an Empty Dictionary:** Start with an empty dictionary to store our word counts.\n",
        "3.  **Iterate and Count:** Loop through each word in the list of words.\n",
        "    *   If the word is already a key in the dictionary, increment its count by 1.\n",
        "    *   If the word is not yet in the dictionary, add it as a key with a count of 1.\n",
        "4.  **Print the Dictionary:** Finally, print the dictionary to see the word counts.\n",
        "\n",
        "**Example:**\n",
        "\n",
        "If the file \"clean_text.txt\" contains the text: \"the quick brown fox jumps over the lazy dog the\", then the resulting dictionary should look something like this:\n",
        "```python\n",
        "python {'the': 3, 'quick': 1, 'brown': 1, 'fox': 1, 'jumps': 1, 'over': 1, 'lazy': 1, 'dog': 1}\n",
        "```\n",
        "**Your Task:**\n",
        "\n",
        "Write the code to implement these steps and create the dictionary of word counts from \"clean_text.txt\".\n",
        "\n",
        "*Hint: Remember to use the `get()` method of dictionaries to check for the existence of a key and provide a default value if it's not found.*\n",
        "\n",
        "👇 **Try writing your code below:**"
      ],
      "metadata": {
        "id": "IWfPkwIXv67L"
      }
    },
    {
      "cell_type": "code",
      "source": [
        "# Good luck! Leave lots of comments\n",
        "# explaining what your code does!"
      ],
      "metadata": {
        "id": "n3OFyViQvVgK"
      },
      "execution_count": null,
      "outputs": []
    }
  ]
}