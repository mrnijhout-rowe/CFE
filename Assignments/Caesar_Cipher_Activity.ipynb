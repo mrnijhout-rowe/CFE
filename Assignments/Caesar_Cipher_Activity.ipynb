{
  "nbformat": 4,
  "nbformat_minor": 0,
  "metadata": {
    "colab": {
      "provenance": []
    },
    "kernelspec": {
      "name": "python3",
      "display_name": "Python 3"
    },
    "language_info": {
      "name": "python"
    }
  },
  "cells": [
    {
      "cell_type": "markdown",
      "source": [
        "**Before you begin, click \"File\" then \"Save a copy to Drive\" Go ahead and put your name in the beginning of the filename instead of \"Copy of\" For example mine could be \"DNijhoutRowe_Caesar_Cipher_Activity.ipynb\"**\n",
        "\n"
      ],
      "metadata": {
        "id": "N4kWqvsyvAw-"
      }
    },
    {
      "cell_type": "markdown",
      "source": [
        "# Preparing for Today's Activity\n",
        "\n",
        "## Upload Your File\n",
        "\n",
        "Before starting this activity, follow these steps to upload the text file (`this_is_text.txt`) into your Google Colab environment. The text in this file is the introduction to the book Winesburg, Ohio by Sherwood Anderson and was downloaded from the [Project Gutenberg](https://www.gutenberg.org/) site:\n",
        "\n",
        "\n",
        "1.   Download the file [here](https://drive.google.com/file/d/12mxp2Ibi5N4ABkLMu3tV-YNyaCdgZ8zt/view?usp=drive_link). After clicking the link, click the download arrow at top.\n",
        "2.   In your Colab notebook, click on the **folder icon** in the left sidebar.\n",
        "3.   Click the **Upload** icon (the arrow pointing upward).\n",
        "4.   Select the file named **`this_is_text.txt`** from the folder where it was downloaded.\n",
        "\n",
        "You're now ready for this activity!\n",
        "\n",
        "---\n",
        "\n",
        "## 🔹**Review: Reading the Contents of a File**\n",
        "\n",
        "**Instructions:**  \n",
        "In the code cell below, look at the Python code\n",
        "\n",
        "- First it opens the file `this_is_text.txt` and calls it `f` This is arbitrary, you can call it anything.\n",
        "- Then it reads its contents into a string called ```unedited_text```.\n",
        "\n",
        "**Make sure to run the cell below before continuing!**"
      ],
      "metadata": {
        "id": "xRn3zc3tzeBU"
      }
    },
    {
      "cell_type": "code",
      "source": [
        "# Open the file and read it into a string\n",
        "with open(\"this_is_text.txt\") as f:\n",
        "    undedited_text = f.read()"
      ],
      "metadata": {
        "id": "2HvGzztAzv2v"
      },
      "execution_count": 3,
      "outputs": []
    },
    {
      "cell_type": "markdown",
      "source": [
        "## 🔹 Cleaning a Text File\n",
        "\n",
        "We are working towards importing and cleaning data from CSV files, this is our next step on that journey.\n",
        "\n",
        "Today we will clean a text file to make it work for our activity, which will be to encode text using the Caesar Cipher.  The Caesar Cipher works by moving all of the letters in a message forwards or backwards a certain amount, for example if we encrypted the word **c o d e** with a key value of 2, the letter **c** would up two spaces in the alphabet and become the letter **E**, the letter **o** would become **N**.  The word **c o d e** would become **E N F G**\n",
        "\n",
        "#Step 1: Lowercase\n",
        "Our first step to make our text string easier to work with will be to make it all lower case.\n",
        "\n",
        "**Instructions:**\n",
        "\n",
        "Lets change `uneedited_text` to all lowercase and save that as a new string called `lower_text`. Print the new string to make sure that it has worked correctly.\n",
        "\n",
        "👇 **Try writing your code below:**"
      ],
      "metadata": {
        "id": "LNYLf3zapwoH"
      }
    },
    {
      "cell_type": "code",
      "source": [
        "#change the string undedited_text\n",
        "#to all lowercase\n",
        "lower_text = undedited_text.lower()\n",
        "\n",
        "#print the new string\n",
        "print(lower_text)"
      ],
      "metadata": {
        "id": "cIX7EH4qokbv",
        "colab": {
          "base_uri": "https://localhost:8080/"
        },
        "outputId": "af6d9b10-8989-4c6c-b693-b56575977e72"
      },
      "execution_count": 5,
      "outputs": [
        {
          "output_type": "stream",
          "name": "stdout",
          "text": [
            "the writer, an old man with a white mustache, had some difficulty in getting into bed. the windows of the house in which he lived were high and he wanted to look at the trees when he awoke in the morning. a carpenter came to fix the bed so that it would be on a level with the window.\n",
            "quite a fuss was made about the matter. the carpenter, who had been a soldier in the civil war, came into the writer’s room and sat down to talk of building a platform for the purpose of raising the bed. the writer had cigars lying about and the carpenter smoked.\n",
            "for a time the two men talked of the raising of the bed and then they talked of other things. the soldier got on the subject of the war. the writer, in fact, led him to that subject. the carpenter had once been a prisoner in andersonville prison and had lost a brother. the brother had died of starvation, and whenever the carpenter got upon that subject he cried. he, like the old writer, had a white mustache, and when he cried he puckered up his lips and the mustache bobbed up and down. the weeping old man with the cigar in his mouth was ludicrous. the plan the writer had for the raising of his bed was forgotten and later the carpenter did it in his own way and the writer, who was past sixty, had to help himself with a chair when he went to bed at night.\n",
            "in his bed the writer rolled over on his side and lay quite still. for years he had been beset with notions concerning his heart. he was a hard smoker and his heart fluttered. the idea had got into his mind that he would some time die unexpectedly and always when he got into bed he thought of that. it did not alarm him. the effect in fact was quite a special thing and not easily explained. it made him more alive, there in bed, than at any other time. perfectly still he lay and his body was old and not of much use any more, but something inside him was altogether young. he was like a pregnant woman, only that the thing inside him was not a baby but a youth. no, it wasn’t a youth, it was a woman, young, and wearing a coat of mail like a knight. it is absurd, you see, to try to tell what was inside the old writer as he lay on his high bed and listened to the fluttering of his heart. the thing to get at is what the writer, or the young thing within the writer, was thinking about.\n",
            "the old writer, like all of the people in the world, had got, during his long life, a great many notions in his head. he had once been quite handsome and a number of women had been in love with him. and then, of course, he had known people, many people, known them in a peculiarly intimate way that was different from the way in which you and i know people. at least that is what the writer thought and the thought pleased him. why quarrel with an old man concerning his thoughts?\n",
            "in the bed the writer had a dream that was not a dream. as he grew somewhat sleepy but was still conscious, figures began to appear before his eyes. he imagined the young indescribable thing within himself was driving a long procession of figures before his eyes.\n",
            "you see the interest in all this lies in the figures that went before the eyes of the writer. they were all grotesques. all of the men and women the writer had ever known had become grotesques.\n",
            "the grotesques were not all horrible. some were amusing, some almost beautiful, and one, a woman all drawn out of shape, hurt the old man by her grotesqueness. when she passed he made a noise like a small dog whimpering. had you come into the room you might have supposed the old man had unpleasant dreams or perhaps indigestion.\n",
            "for an hour the procession of grotesques passed before the eyes of the old man, and then, although it was a painful thing to do, he crept out of bed and began to write. some one of the grotesques had made a deep impression on his mind and he wanted to describe it.\n",
            "at his desk the writer worked for an hour. in the end he wrote a book which he called “the book of the grotesque.” it was never published, but i saw it once and it made an indelible impression on my mind. the book had one central thought that is very strange and has always remained with me. by remembering it i have been able to understand many people and things that i was never able to understand before. the thought was involved but a simple statement of it would be something like this:\n",
            "that in the beginning when the world was young there were a great many thoughts but no such thing as a truth. man made the truths himself and each truth was a composite of a great many vague thoughts. all about in the world were the truths and they were all beautiful.\n",
            "the old man had listed hundreds of the truths in his book. i will not try to tell you of all of them. there was the truth of virginity and the truth of passion, the truth of wealth and of poverty, of thrift and of profligacy, of carelessness and abandon. hundreds and hundreds were the truths and they were all beautiful.\n",
            "and then the people came along. each as he appeared snatched up one of the truths and some who were quite strong snatched up a dozen of them.\n",
            "it was the truths that made the people grotesques. the old man had quite an elaborate theory concerning the matter. it was his notion that the moment one of the people took one of the truths to himself, called it his truth, and tried to live his life by it, he became a grotesque and the truth he embraced became a falsehood.\n",
            "you can see for yourself how the old man, who had spent all of his life writing and was filled with words, would write hundreds of pages concerning this matter. the subject would become so big in his mind that he himself would be in danger of becoming a grotesque. he didn’t, i suppose, for the same reason that he never published the book. it was the young thing inside him that saved the old man.\n",
            "concerning the old carpenter who fixed the bed for the writer, i only mentioned him because he, like many of what are called very common people, became the nearest thing to what is understandable and lovable of all the grotesques in the writer’s book.\n",
            "\n",
            "\n"
          ]
        }
      ]
    },
    {
      "cell_type": "markdown",
      "source": [
        "## 🔹 Cleaning a Text File\n",
        "\n",
        "Look at the print out of the string from your last code block. Is everything lowercase now? What else can we do to clean this file and make it easier to work with?\n",
        "\n",
        "#Step 2: Removing Everything that is Not a Letter\n",
        "\n",
        "Throughout this activity we will have to remember that a string is a list of characters. For an example of this look at this code:\n",
        "```python\n",
        "greeting = \"howdy\"\n",
        "print(greeting[2])\n",
        "```\n",
        "What will the output of that code be?\n",
        "```python\n",
        "w\n",
        "```\n",
        "One way to remove all of our non-letter characters would be to compare each character in our string to a list of allowed characters:\n",
        "```python\n",
        "letters = \"abcdefghijklmnopqrstuvwxyz\"\n",
        "```\n",
        "Lets do a test run first. In the code block below write a for loop that goes through the string ```this_text```, compares each character to the ones that are in our string letters and gets rid of any that are not in that string.\n",
        "\n",
        "👇 **Try writing your code below:**\n",
        "\n"
      ],
      "metadata": {
        "id": "YFOgtmxQ0Ft9"
      }
    },
    {
      "cell_type": "code",
      "source": [],
      "metadata": {
        "id": "D-X9LyvuPNAv"
      },
      "execution_count": null,
      "outputs": []
    },
    {
      "source": [
        "this_text = \"teachers around the world agree, senioritis is a real thing. affected students generally start displaying signs of this afflication in march of their senior year.\"\n",
        "new_text = \"\"\n",
        "letters = \"abcdefghijklmnopqrstuvwxyz\"\n",
        "'''\n",
        "Put your for loop here then print\n",
        "the new string, new_text, to see\n",
        "if it worked.\n",
        "'''\n",
        "\n"
      ],
      "cell_type": "code",
      "metadata": {
        "id": "evvN1Jo5ocDe",
        "colab": {
          "base_uri": "https://localhost:8080/"
        },
        "outputId": "35e80fa2-663b-4ddc-b7d1-ff3401a8178b"
      },
      "execution_count": 11,
      "outputs": [
        {
          "output_type": "stream",
          "name": "stdout",
          "text": [
            "teachersaroundtheworldagreesenioritisisarealthingaffectedstudentsgenerallystartdisplayingsignsofthisafflicationinmarchoftheirsenioryear\n"
          ]
        }
      ]
    },
    {
      "cell_type": "markdown",
      "source": [
        "OK, now see if you can do the same thing with our string ```lower_text```\n",
        "\n",
        "👇 **Try writing your code below:**\n",
        "\n"
      ],
      "metadata": {
        "id": "1ismEyV1PTwE"
      }
    },
    {
      "cell_type": "code",
      "source": [
        "clean_text = \"\"\n",
        "letters = \"abcdefghijklmnopqrstuvwxyz\"\n"
      ],
      "metadata": {
        "id": "Lihuzw4FRVbr"
      },
      "execution_count": null,
      "outputs": []
    },
    {
      "cell_type": "markdown",
      "source": [
        "## 🔹 Step 3: Finding the Letter Location\n",
        "Now we are getting somewhere. We have a string called ```clean_text``` that contains just lowercase letters. All of the spaces and punctuation have been removed. But, how do we encrypt our message?\n",
        "\n",
        "Remember that the Caesar Cipher encryptions is accompished by finding the location of each letter in the alphabet, then adding (or subtracting) that location by a set amount. But, how can the computer figure out that the letter 'c' is at location 2? By using our ```letters``` string and the ```index()``` method.\n",
        "\n",
        "👇 **Try this code block:**"
      ],
      "metadata": {
        "id": "Oon_bkDFt2-5"
      }
    },
    {
      "cell_type": "code",
      "source": [
        "letters = \"abcdefghijklmnopqrstuvwxyz\"\n",
        "print(letters.index(\"c\"))\n"
      ],
      "metadata": {
        "id": "TE3scs0ut_sA",
        "colab": {
          "base_uri": "https://localhost:8080/"
        },
        "outputId": "efe5e113-183f-4ff9-9336-6827edbbe0c5"
      },
      "execution_count": 8,
      "outputs": [
        {
          "output_type": "stream",
          "name": "stdout",
          "text": [
            "2\n"
          ]
        }
      ]
    },
    {
      "cell_type": "markdown",
      "source": [
        "👇 **Now, try this one:**"
      ],
      "metadata": {
        "id": "TyMecubCaV8o"
      }
    },
    {
      "cell_type": "code",
      "source": [
        "letters = \"abcdefghijklmnopqrstuvwxyz\"\n",
        "char = \"c\"\n",
        "print(letters.index(char))"
      ],
      "metadata": {
        "id": "1en6nnzIaa7X",
        "outputId": "3cf39233-c8f9-4a56-ab1d-3040cf73603a",
        "colab": {
          "base_uri": "https://localhost:8080/"
        }
      },
      "execution_count": 9,
      "outputs": [
        {
          "output_type": "stream",
          "name": "stdout",
          "text": [
            "2\n"
          ]
        }
      ]
    },
    {
      "cell_type": "markdown",
      "source": [
        "Using the starter code below, create a list of the location of each letter in ```this_text```"
      ],
      "metadata": {
        "id": "R6dnq81na7gT"
      }
    },
    {
      "cell_type": "code",
      "source": [
        "this_clean_text = \"teachersaroundtheworldagreesenioritisisarealthingaffectedstudentsgenerallystartdisplayingsignsofthisafflicationinmarchoftheirsenioryear\"\n",
        "letters = \"abcdefghijklmnopqrstuvwxyz\"\n",
        "letter_locations = []\n",
        "#Create a for loop that goes through\n",
        "#Each character in this_clean_text\n",
        "#And adds its index to the list\n",
        "#letter_locations\n"
      ],
      "metadata": {
        "id": "uJeRxKspa8Vv",
        "outputId": "c1634a3e-3929-4408-a15c-17050b583ab2",
        "colab": {
          "base_uri": "https://localhost:8080/"
        }
      },
      "execution_count": 10,
      "outputs": [
        {
          "output_type": "stream",
          "name": "stdout",
          "text": [
            "[19, 4, 0, 2, 7, 4, 17, 18, 0, 17, 14, 20, 13, 3, 19, 7, 4, 22, 14, 17, 11, 3, 0, 6, 17, 4, 4, 18, 4, 13, 8, 14, 17, 8, 19, 8, 18, 8, 18, 0, 17, 4, 0, 11, 19, 7, 8, 13, 6, 0, 5, 5, 4, 2, 19, 4, 3, 18, 19, 20, 3, 4, 13, 19, 18, 6, 4, 13, 4, 17, 0, 11, 11, 24, 18, 19, 0, 17, 19, 3, 8, 18, 15, 11, 0, 24, 8, 13, 6, 18, 8, 6, 13, 18, 14, 5, 19, 7, 8, 18, 0, 5, 5, 11, 8, 2, 0, 19, 8, 14, 13, 8, 13, 12, 0, 17, 2, 7, 14, 5, 19, 7, 4, 8, 17, 18, 4, 13, 8, 14, 17, 24, 4, 0, 17]\n"
          ]
        }
      ]
    },
    {
      "cell_type": "markdown",
      "source": [
        "## 🔹 Creating a Dictionary of Word Counts\n",
        "\n",
        "***Hint: This exercise is A LOT like the Banana problem in the \"Getting Started With Dictionaries\" problem set. If you go open Google Colab in a different tab you can open that notebook and take a look at it.***\n",
        "\n",
        "**Instructions:**\n",
        "\n",
        "In this exercise, we'll combine what we've learned about splitting text into words and using dictionaries. Our goal is to create a dictionary where the **keys** are the individual words from the file \"clean_text.txt\" and the **values** are the number of times each word appears in the file.\n",
        "\n",
        "We'll achieve this by following these steps:\n",
        "\n",
        "1.  **Read and Split:** Read the contents of \"clean_text.txt\" into a string and split it into a list of words, just like you did in the previous exercise.\n",
        "2.  **Create an Empty Dictionary:** Start with an empty dictionary to store our word counts.\n",
        "3.  **Iterate and Count:** Loop through each word in the list of words.\n",
        "    *   If the word is already a key in the dictionary, increment its count by 1.\n",
        "    *   If the word is not yet in the dictionary, add it as a key with a count of 1.\n",
        "4.  **Print the Dictionary:** Finally, print the dictionary to see the word counts.\n",
        "\n",
        "**Example:**\n",
        "\n",
        "If the file \"clean_text.txt\" contains the text: \"the quick brown fox jumps over the lazy dog the\", then the resulting dictionary should look something like this:\n",
        "```python\n",
        "python {'the': 3, 'quick': 1, 'brown': 1, 'fox': 1, 'jumps': 1, 'over': 1, 'lazy': 1, 'dog': 1}\n",
        "```\n",
        "**Your Task:**\n",
        "\n",
        "Write the code to implement these steps and create the dictionary of word counts from \"clean_text.txt\".\n",
        "\n",
        "*Hint: Remember to use the `get()` method of dictionaries to check for the existence of a key and provide a default value if it's not found.*\n",
        "\n",
        "👇 **Try writing your code below:**"
      ],
      "metadata": {
        "id": "IWfPkwIXv67L"
      }
    },
    {
      "cell_type": "code",
      "source": [
        "# Good luck! Leave lots of comments\n",
        "# explaining what your code does!"
      ],
      "metadata": {
        "id": "n3OFyViQvVgK"
      },
      "execution_count": null,
      "outputs": []
    }
  ]
}