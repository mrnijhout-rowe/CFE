{
  "nbformat": 4,
  "nbformat_minor": 0,
  "metadata": {
    "colab": {
      "provenance": []
    },
    "kernelspec": {
      "name": "python3",
      "display_name": "Python 3"
    },
    "language_info": {
      "name": "python"
    }
  },
  "cells": [
    {
      "cell_type": "markdown",
      "source": [
        "#Connect Four Project 🎮\n",
        "##Overview\n",
        "Create a text-based Connect Four game using your Python skills! This project challenges you to apply your knowledge of 2D lists, functions, and game logic to build an interactive two-player game.\n",
        "\n",
        "##Learning Objectives\n",
        "- Implement and manipulate 2D lists\n",
        "- Create functions that process 2D data structures\n",
        "- Design user interaction for a text-based application\n",
        "- Develop winning condition algorithms\n",
        "- Practice collaborative coding techniques\n",
        "\n",
        "##Basic Requirements\n",
        "- Create a standard Connect Four board (7 columns × 6 rows)\n",
        "- Display the board in the terminal after each move\n",
        "- Allow two players to take turns placing pieces\n",
        "- Validate moves (check if the selected column is full)\n",
        "- Detect when a player wins\n",
        "- End the game appropriately when there's a winner\n"
      ],
      "metadata": {
        "id": "SnTvDOPzm4CU"
      }
    },
    {
      "cell_type": "markdown",
      "source": [
        "##Partner 1: Board & Player Interaction\n",
        "###Your responsibilities:\n",
        "\n",
        "- Create and initialize the 2D list for the game board\n",
        "- Display the board visually in the terminal\n",
        "- Handle player turns and input collection\n",
        "- Validate moves and update the board accordingly\n",
        "- Implement the main game loop\n",
        "\n",
        "##Starter code:\n"
      ],
      "metadata": {
        "id": "W5XBTimyolbZ"
      }
    },
    {
      "cell_type": "code",
      "execution_count": null,
      "metadata": {
        "id": "GkeacLKOm0zY"
      },
      "outputs": [],
      "source": [
        "def create_board():\n",
        "    \"\"\"Create an empty 6×7 board.\"\"\"\n",
        "    # Create a 2D list with 6 rows and 7 columns\n",
        "    # Use spaces ' ' or zeros 0 to represent empty cells\n",
        "\n",
        "\n",
        "def display_board(board):\n",
        "    \"\"\"Display the current state of the board.\"\"\"\n",
        "    # Print the board in a clear, readable format\n",
        "    # Include column numbers for players' reference\n",
        "\n",
        "\n",
        "def make_move(board, column, player):\n",
        "    \"\"\"Add a piece to the specified column for the given player.\"\"\"\n",
        "    # Find the lowest empty cell in the column\n",
        "    # Update the board with the player's piece ('X', 'O', etc.)\n",
        "    # Return True if successful, False if column is full\n",
        "\n",
        "\n",
        "def main():\n",
        "    \"\"\"Run the main game loop.\"\"\"\n",
        "    # Create a new game board\n",
        "    # Set up player turns\n",
        "    # Loop until game ends (win or board full)\n",
        "    # For each turn:\n",
        "    #   - Display board\n",
        "    #   - Get player input\n",
        "    #   - Make move if valid\n",
        "    #   - Check for win (call partner's function)"
      ]
    },
    {
      "cell_type": "markdown",
      "source": [
        "##Partner 2: Game Logic & Win Detection\n",
        "###Your responsibilities:\n",
        "\n",
        "- Create functions to check for a winner\n",
        "- Detect horizontal, vertical, and diagonal wins\n",
        "- Return information about who won and where\n",
        "- Implement draw detection (optional stretch goal)\n",
        "\n",
        "##Starter code:"
      ],
      "metadata": {
        "id": "XssLqtuZoybT"
      }
    },
    {
      "cell_type": "code",
      "source": [
        "def check_winner(board):\n",
        "    \"\"\"Check if there's a winner on the board.\n",
        "\n",
        "    Returns:\n",
        "        - None if no winner\n",
        "        - Player symbol (e.g., 'X' or 'O') if there's a winner\n",
        "        - Optional: You can also return the winning positions\n",
        "    \"\"\"\n",
        "    # Check for horizontal, vertical, and diagonal wins\n",
        "    # Return the winner if found, None otherwise\n",
        "\n",
        "\n",
        "def check_horizontal_win(board):\n",
        "    \"\"\"Check for horizontal wins (4 in a row).\"\"\"\n",
        "    # Iterate through valid starting positions\n",
        "    # Check for 4 consecutive matching pieces\n",
        "\n",
        "\n",
        "def check_vertical_win(board):\n",
        "    \"\"\"Check for vertical wins (4 in a column).\"\"\"\n",
        "    # Iterate through valid starting positions\n",
        "    # Check for 4 consecutive matching pieces\n",
        "\n",
        "\n",
        "def check_diagonal_win(board):\n",
        "    \"\"\"Check for diagonal wins in both directions.\"\"\"\n",
        "    # Check diagonal wins (↗) and (↘)\n",
        "    # Be careful with the boundary checks!\n"
      ],
      "metadata": {
        "id": "aoXhDSYnoi3W"
      },
      "execution_count": null,
      "outputs": []
    },
    {
      "cell_type": "markdown",
      "source": [
        "##Implementation Timeline\n",
        "###Day 1:\n",
        "\n",
        "- Set up the basic structure of the program\n",
        "- Implement board creation and display\n",
        "- Handle player input and move validation\n",
        "\n",
        "###Day 2:\n",
        "- Implement win condition checking\n",
        "- Connect all components\n",
        "- Test and debug\n",
        "- Add stretch goals if time permits\n",
        "\n",
        "##Helpful Hints\n",
        "\n",
        "###For Partner 1:\n",
        "- Remember that pieces in Connect Four \"fall\" to the lowest available position\n",
        "- Validate all user input to handle unexpected entries\n",
        "\n",
        "###For Partner 2:\n",
        "- Break down the win-checking logic into smaller functions\n",
        "- When checking for 4-in-a-row, you need to consider:\n",
        "  * Horizontal: ```board[row][col], board[row][col+1], board[row][col+2], board[row][col+3]```\n",
        "  * Vertical: ```board[row][col], board[row+1][col], board[row+2][col], board[row+3][col]```\n",
        "  * Diagonal ↘:``` board[row][col], board[row+1][col+1], board[row+2][col+2], board[row+3][col+3]```\n",
        "  * Diagonal ↗: ```board[row][col], board[row-1][col+1], board[row-2][col+2], board[row-3][col+3]```\n",
        "- Be careful with index boundaries to avoid \"index out of range\" errors"
      ],
      "metadata": {
        "id": "xsL22EoBpQca"
      }
    },
    {
      "cell_type": "markdown",
      "source": [
        "##Stretch Goals\n",
        "\n",
        "###Partner 1:\n",
        "- Create a more visually appealing board using ASCII art or Unicode characters\n",
        "- Implement save/load functionality to preserve game state in a text file\n",
        "- Add a menu system (New Game, Load Game, Quit)\n",
        "- Keep track of multiple games with a scoreboard\n",
        "###Partner 2:\n",
        "- Detect when the game ends in a draw (board full, no winner)\n",
        "- Implement an \"undo move\" functionality\n",
        "- Create a simple AI opponent that makes strategic moves\n",
        "- Add highlighting of the winning pieces when someone wins\n",
        "\n",
        "##Sample Output\n",
        "```python\n",
        "Connect Four\n",
        "\n",
        "  1 2 3 4 5 6 7\n",
        " |_|_|_|_|_|_|_|\n",
        " |_|_|_|_|_|_|_|\n",
        " |_|_|_|_|_|_|_|\n",
        " |_|_|_|_|_|_|_|\n",
        " |_|_|O|X|_|_|_|\n",
        " |_|X|O|X|O|_|_|\n",
        "\n",
        "Player X's turn\n",
        "Choose a column (1-7): 3\n",
        "\n",
        "  1 2 3 4 5 6 7\n",
        " |_|_|_|_|_|_|_|\n",
        " |_|_|_|_|_|_|_|\n",
        " |_|_|_|_|_|_|_|\n",
        " |_|_|X|_|_|_|_|\n",
        " |_|_|O|X|_|_|_|\n",
        " |_|X|O|X|O|_|_|\n",
        "\n",
        "Player O's turn\n",
        "Choose a column (1-7):\n",
        "```\n",
        "#Good luck and have fun coding your game! 🎲"
      ],
      "metadata": {
        "id": "oF2ASUNcqU-n"
      }
    }
  ]
}