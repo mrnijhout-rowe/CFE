{
  "nbformat": 4,
  "nbformat_minor": 0,
  "metadata": {
    "colab": {
      "provenance": []
    },
    "kernelspec": {
      "name": "python3",
      "display_name": "Python 3"
    },
    "language_info": {
      "name": "python"
    }
  },
  "cells": [
    {
      "cell_type": "markdown",
      "source": [
        "🧠 STUDENT ACTIVITIES\n",
        "\n",
        "🟢 Activity 1: Fill in the Grid (Static)\n",
        "Objective: Practice indexing and assignment\n",
        "\n",
        "Starter Code:"
      ],
      "metadata": {
        "id": "qp5osEDH0UEF"
      }
    },
    {
      "cell_type": "code",
      "source": [
        "grid = [\n",
        "    [0, 0, 0],\n",
        "    [0, 0, 0],\n",
        "    [0, 0, 0]\n",
        "]\n",
        "\n",
        "# TODO: Change the center cell to 5\n",
        "# TODO: Change the top-left to 9\n",
        "# TODO: Change the bottom-right to 7\n",
        "\n",
        "# Print the grid afterward\n"
      ],
      "metadata": {
        "id": "sqBoYB2T0Xo-"
      },
      "execution_count": null,
      "outputs": []
    },
    {
      "cell_type": "markdown",
      "source": [
        "🟡 Activity 2: Build a Checkerboard\n",
        "Objective: Use nested loops to build a list of lists that looks like a checkerboard.\n",
        "\n",
        "📝 Instructions:\n",
        "Write a program that creates an 8x8 2D list (a grid) that alternates between \"X\" and \"O\" like a checkerboard. Start with \"X\" in the top-left corner.\n",
        "\n",
        "Then, print the checkerboard so it looks like a grid.\n",
        "\n",
        "🧠 Hint:\n",
        "You'll need a loop inside a loop.\n",
        "Use if ```(row + column) % 2 == 0``` to decide which symbol to place.\n"
      ],
      "metadata": {
        "id": "mkQ3i7Wo0adx"
      }
    },
    {
      "cell_type": "code",
      "source": [
        "board = []\n",
        "\n",
        "# TODO: Use nested loops to fill it with \"X\" and \"O\" in alternating pattern\n",
        "for i in range(8):\n",
        "  row =[]\n",
        "  for j in range(8):\n",
        "    #A row was created, now fill it with X's and O's\n",
        "    #Hint: Your code goes here\n",
        "\n",
        "  #now add that row to the board\n",
        "  board.append(row)\n",
        "\n",
        "#Print the board using a loop\n",
        "for i in board:\n",
        "  print(i)\n"
      ],
      "metadata": {
        "id": "WMnqMlll0iGH"
      },
      "execution_count": null,
      "outputs": []
    },
    {
      "cell_type": "markdown",
      "source": [
        "###Challenge:\n",
        "Make it user-defined size (ask the user how many rows/columns)."
      ],
      "metadata": {
        "id": "i9yUHv0I0myo"
      }
    },
    {
      "cell_type": "markdown",
      "source": [
        "🔴 Activity 3: Mine Count in Grid\n",
        "Objective: Introduce logic across neighbors in a 2D grid.\n",
        "\n",
        "Directions:\n",
        "You're given a 2D list representing a minefield. \"*\" means a mine, \".\" means safe. Replace each \".\" with a number showing how many mines are adjacent (N, NE, E, SE, S, SW, W, NW).\n",
        "\n",
        "Example input:\n",
        "```python\n",
        "minefield = [\n",
        "    [\".\", \"*\", \".\"],\n",
        "    [\".\", \".\", \".\"],\n",
        "    [\"*\", \".\", \"*\"]\n",
        "]\n",
        "```\n",
        "Expected output:\n",
        "```python\n",
        "[1, \"*\", 1]\n",
        "[2, 3, 2]\n",
        "[\"*\", 2, \"*\"]\n",
        "```"
      ],
      "metadata": {
        "id": "AzpMAGrp3C-1"
      }
    },
    {
      "cell_type": "code",
      "source": [
        "minefield = [\n",
        "    [\".\", \"*\", \".\"],\n",
        "    [\".\", \".\", \".\"],\n",
        "    [\"*\", \".\", \"*\"]\n",
        "]\n",
        "#Place your code here"
      ],
      "metadata": {
        "id": "b4M8qmE23wzB"
      },
      "execution_count": null,
      "outputs": []
    },
    {
      "cell_type": "markdown",
      "source": [
        "📝 2D List Homework Activity: “Map Cleanup”\n",
        "\n",
        "🧭 Background:\n",
        "You're helping clean up a satellite map represented as a 2D list of strings. Each cell is either:\n",
        "\n",
        "\"T\" for tree\n",
        "\"R\" for rock\n",
        "\".\" for open space\n",
        "You’ve been told to mark any open space (\".\") that is completely surrounded by trees on all four sides (up, down, left, right — not diagonals) as a \"C\" for clearing. These are considered safe clearings for campsites.\n",
        "\n",
        "🔨 Your Task:\n",
        "Write a program that takes a 2D list called map_data.\n",
        "Create a new 2D list where any \".\" cell that is surrounded on all 4 sides by \"T\" becomes \"C\".\n",
        "All other cells should stay the same.\n",
        "Edges should be left alone — don’t worry about checking those.\n"
      ],
      "metadata": {
        "id": "-uQkORmg3yHZ"
      }
    },
    {
      "cell_type": "code",
      "source": [
        "map_data = [\n",
        "    [\"T\", \"T\", \"T\", \"T\", \"T\"],\n",
        "    [\"T\", \".\", \"T\", \".\", \"T\"],\n",
        "    [\"T\", \".\", \"T\", \".\", \"T\"],\n",
        "    [\"T\", \"T\", \".\", \"T\", \"T\"],\n",
        "    [\"T\", \"T\", \"T\", \"T\", \"T\"]\n",
        "]\n",
        "\n",
        "# Your code here to make a cleaned_map\n",
        "\n",
        "for row in cleaned_map:\n",
        "    print(\" \".join(row))\n"
      ],
      "metadata": {
        "id": "vbSczb1L31jE"
      },
      "execution_count": null,
      "outputs": []
    },
    {
      "cell_type": "markdown",
      "source": [
        "✅ Example Output:\n",
        "For the map above, your program should output:\n",
        "```python\n",
        "T T T T T  \n",
        "T . T . T  \n",
        "T . T . T  \n",
        "T T C T T  \n",
        "T T T T T\n",
        "```\n",
        "Only the \".\" in the center bottom (row 3, column 2) is fully surrounded by trees and gets changed to \"C\".\n",
        "\n",
        "🧠 Tips:\n",
        "Don’t modify map_data directly — build a new list called cleaned_map.\n",
        "You’ll need nested loops.\n",
        "Remember: map_data[i][j] is the current cell.\n"
      ],
      "metadata": {
        "id": "f7VAcil437kF"
      }
    }
  ]
}