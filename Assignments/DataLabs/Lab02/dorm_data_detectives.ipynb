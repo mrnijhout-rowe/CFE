{
 "cells": [
  {
   "cell_type": "markdown",
   "id": "ce20d178",
   "metadata": {},
   "source": [
    "# Dorm Data Detectives 🕵️‍♀️\n",
    "\n",
    "In this notebook, you'll work through a four-part activity to load, clean, analyze, and visualize real-world dorm energy usage data."
   ]
  },
  {
   "cell_type": "markdown",
   "id": "1f67a798",
   "metadata": {},
   "source": [
    "## Part 1: Load and Peek 👀\n",
    "We'll start by loading the dataset and taking a look at the raw data."
   ]
  },
  {
   "cell_type": "code",
   "execution_count": null,
   "id": "d2ca59ac",
   "metadata": {},
   "outputs": [],
   "source": [
    "import csv\n",
    "\n",
    "with open(\"dirty_dorm_energy_usage_reynolds.csv\") as file:\n",
    "    reader = csv.DictReader(file)\n",
    "    data = list(reader)\n",
    "\n",
    "# Print the first 3 rows\n",
    "data[:3]"
   ]
  },
  {
   "cell_type": "markdown",
   "id": "e87d38a6",
   "metadata": {},
   "source": [
    "## Part 2: Clean and Visualize 🧹📊\n",
    "Now we’ll clean the data and create our first bar chart."
   ]
  },
  {
   "cell_type": "code",
   "execution_count": null,
   "id": "07e2b129",
   "metadata": {},
   "outputs": [],
   "source": [
    "# Normalize and clean\n",
    "columns = [col.lower().strip() for col in data[0].keys()]\n",
    "\n",
    "cleaned_data = []\n",
    "for row in data:\n",
    "    cleaned_row = {}\n",
    "    for key in row:\n",
    "        normalized_key = key.lower().strip()\n",
    "        value = row[key].strip()\n",
    "        try:\n",
    "            cleaned_row[normalized_key] = float(value)\n",
    "        except ValueError:\n",
    "            cleaned_row[normalized_key] = None if value == \"\" else value\n",
    "    cleaned_data.append(cleaned_row)\n",
    "\n",
    "# Filter valid rows\n",
    "valid_data = [row for row in cleaned_data if isinstance(row['total_kwh'], float)]"
   ]
  },
  {
   "cell_type": "code",
   "execution_count": null,
   "id": "df77b2da",
   "metadata": {},
   "outputs": [],
   "source": [
    "# Plot total usage by floor\n",
    "import matplotlib.pyplot as plt\n",
    "\n",
    "floor_totals = {}\n",
    "for row in valid_data:\n",
    "    floor = int(row['floor'])\n",
    "    floor_totals[floor] = floor_totals.get(floor, 0) + row['total_kwh']\n",
    "\n",
    "plt.bar(floor_totals.keys(), floor_totals.values())\n",
    "plt.xlabel(\"Floor\")\n",
    "plt.ylabel(\"Total Energy Used (kWh)\")\n",
    "plt.title(\"Total Energy Usage by Floor\")\n",
    "plt.show()"
   ]
  },
  {
   "cell_type": "markdown",
   "id": "2e07be3e",
   "metadata": {},
   "source": [
    "## Part 3: Analysis Challenge 🤓\n",
    "Work in pairs or groups to answer the questions below."
   ]
  },
  {
   "cell_type": "code",
   "execution_count": null,
   "id": "f02def2b",
   "metadata": {},
   "outputs": [],
   "source": [
    "# TODO:\n",
    "# 1. Find the room with the highest total_kwh\n",
    "# 2. Compute the average usage per room\n",
    "# 3. Find which floor has the highest average usage\n",
    "# 4. Create a leaderboard of top 5 rooms by total_kwh"
   ]
  },
  {
   "cell_type": "markdown",
   "id": "36e8a08d",
   "metadata": {},
   "source": [
    "## Part 4: Homework - Visualize & Reflect 📈📝\n",
    "Choose one of the two options below and create a chart. Then write your insights."
   ]
  },
  {
   "cell_type": "code",
   "execution_count": null,
   "id": "99dd8a04",
   "metadata": {},
   "outputs": [],
   "source": [
    "# TODO:\n",
    "# Create a bar chart showing either:\n",
    "#   a) Top 5 rooms by total usage, OR\n",
    "#   b) Average daily usage across all rooms"
   ]
  },
  {
   "cell_type": "markdown",
   "id": "0c22eb6a",
   "metadata": {},
   "source": [
    "### Reflection\n",
    "Write a short paragraph describing your insights:\n",
    "- What did the chart show you?\n",
    "- Any interesting patterns?\n",
    "- Any surprises or possible issues in the data?"
   ]
  }
 ],
 "metadata": {},
 "nbformat": 4,
 "nbformat_minor": 5
}
