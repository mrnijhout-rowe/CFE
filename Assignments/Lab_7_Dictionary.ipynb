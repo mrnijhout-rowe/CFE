{
  "nbformat": 4,
  "nbformat_minor": 0,
  "metadata": {
    "colab": {
      "provenance": []
    },
    "kernelspec": {
      "name": "python3",
      "display_name": "Python 3"
    },
    "language_info": {
      "name": "python"
    }
  },
  "cells": [
    {
      "cell_type": "markdown",
      "source": [
        "#Dictionary Lab 7\n",
        "**Click \"File\" then \"Save a copy to Drive\" or none of your work will be saved!!!**\n",
        "\n",
        "Also, it doesn't save quite as automatically as Google Docs, so go to \"File\" and select \"Save\" every now and then.\n",
        "\n",
        "It works just like a Google Doc. Make a copy first, edit that, then share the final product with me."
      ],
      "metadata": {
        "id": "QPf2C1G2scBq"
      }
    },
    {
      "cell_type": "markdown",
      "source": [
        "#Question 1\n",
        "Imagine we want to write a program that processes information about music tracks. For each track we mighthave many different bits of information, e.g. artist name, song title, song length, year of release, etc. We could store the information for each track in a list like the one below.\n",
        "\n",
        "\n",
        "```\n",
        "my_track = ['The Score', 'Legend', 189, 2017]\n",
        "```\n",
        "Improve the access to this list by creating a blank\n",
        "dictionary and append the same information using keys\n",
        "and values. Print the dictionary.\n",
        "\n",
        "Sample Output\n",
        "\n",
        "\n",
        "```\n",
        "my_track = {\"Artist\": \"The Score\", \"Title\": \"Legend\",\n",
        "\"Length\": 189, \"Year\": 2017}\n",
        "```\n",
        "\n",
        "\n",
        "\n"
      ],
      "metadata": {
        "id": "PPtPSie3suRf"
      }
    },
    {
      "cell_type": "code",
      "execution_count": null,
      "metadata": {
        "id": "5KAcCyXisRrx"
      },
      "outputs": [],
      "source": [
        "#Write your code in this block!\n",
        "#To run your code you can press\n",
        "#the arrow or simple push the\n",
        "#\"Shift\" and \"Enter\" keys at the same time\n",
        "\n",
        "#Name\n",
        "#Date\n",
        "#Dictionaries Question 1\n",
        "\n",
        "#Write your code:\n"
      ]
    },
    {
      "cell_type": "markdown",
      "source": [
        "#Question 2\n",
        "Create a dictionary of the following list of capitals.\n",
        "\n",
        "\n",
        "```\n",
        "capital = {'North Carolina': 'Raleigh', 'South Carolina':\n",
        "'Columbia', 'New York': 'Albany', 'Texas': 'Austin'}\n",
        "```\n",
        "Print \"Got key [state] which maps to value [capital].Make a list of all of the states and print it. print the first state in the list.\n",
        "\n",
        "Sample Output\n",
        "\n",
        "\n",
        "```\n",
        "Got key North Carolina which maps to value Raleigh\n",
        "Got key South Carolina which maps to value Columbia\n",
        "Got key New York which maps to value Albany\n",
        "Got key Texas which maps to value Austin\n",
        "['North Carolina', 'South Carolina', 'New York', 'Texas']\n",
        "North Carolina\n",
        "```\n",
        "\n",
        "\n",
        "\n"
      ],
      "metadata": {
        "id": "0M0BqTuTtj3l"
      }
    },
    {
      "cell_type": "code",
      "source": [
        "#Name\n",
        "#Date\n",
        "#Dictionaries Question 2"
      ],
      "metadata": {
        "id": "hWSmy4CfuPjP"
      },
      "execution_count": null,
      "outputs": []
    },
    {
      "cell_type": "markdown",
      "source": [
        "#Question 3\n",
        "Write a program that creates an empty dictionary named book,\n",
        "then adds four values that are input by the user. These\n",
        "values should be stored with the keys and datatypes shown\n",
        "in the table.\n",
        "\n",
        "```\n",
        "Key\t    Datatype of value\n",
        "title\t  string\n",
        "author\t string\n",
        "year\t   int\n",
        "pages\t  int\n",
        "```\n",
        "Then, print the dictionary.\n",
        "\n",
        "Sample Run:\n",
        "\n",
        "\n",
        "```\n",
        "Enter the title: The Colour of Magic\n",
        "Enter the author: Terry Pratchett\n",
        "Enter the publication year: 1983\n",
        "Enter the number of pages: 288\n",
        "{'title': 'The Colour of Magic', 'author': 'Terry Pratchett', 'year': 1983, 'pages': 288}\n",
        "```\n",
        "Note: The order in which the items appear in your printed\n",
        "dictionary could look different, but items must be inserted\n",
        "in the correct order with the correct keys to pass the\n",
        "grader tests.\n"
      ],
      "metadata": {
        "id": "KBFcSA5HuaKs"
      }
    },
    {
      "cell_type": "code",
      "source": [
        "#Name\n",
        "#Date\n",
        "#Dictionaries Question 3"
      ],
      "metadata": {
        "id": "PuU8isT0vrZO"
      },
      "execution_count": null,
      "outputs": []
    },
    {
      "cell_type": "markdown",
      "source": [
        "#Question 4\n",
        "Write a program which creates a dictionary by asking\n",
        "the user to type a key followed by a value until the user\n",
        "types STOP.\n",
        "\n",
        "However, this program should not allow a user to replace\n",
        "a value for a key they have already inserted. If a user\n",
        "types a key and value, and that key is already used in\n",
        "the dictionary, it should ignore it.\n",
        "\n",
        "At the end of the program, the dictionary should be printed.\n",
        "\n",
        "Sample Run:\n",
        "```\n",
        "Type a key (STOP when done):\n",
        "Piccadilly\n",
        "Type a value:\n",
        "Dark blue\n",
        "\n",
        "Type a key (STOP when done):\n",
        "Central\n",
        "Type a value:\n",
        "Red\n",
        "\n",
        "Type a key (STOP when done):\n",
        "Piccadilly\n",
        "Type a value:\n",
        "Green\n",
        "\n",
        "Type a key (STOP when done):\n",
        "Victoria\n",
        "Type a value:\n",
        "Light blue\n",
        "\n",
        "Type a key (STOP when done):\n",
        "STOP\n",
        "\n",
        "{'Piccadilly': 'Dark blue', 'Central' : 'Red','Victoria' : 'Light blue'}\n",
        "```\n",
        "\n"
      ],
      "metadata": {
        "id": "GaVk6dDVXdG7"
      }
    },
    {
      "cell_type": "code",
      "source": [
        "#Name\n",
        "#Date\n",
        "#Dictionaries Question 4"
      ],
      "metadata": {
        "id": "xvkZXAzIXua7"
      },
      "execution_count": null,
      "outputs": []
    },
    {
      "cell_type": "markdown",
      "source": [
        "#Question 5\n",
        "Write a method named make_dict which has two parameters:\n",
        "key_list and value_list.\n",
        "\n",
        "These should be passed lists which are used to create and\n",
        "return a dictionary. Each key in the returned dictionary\n",
        "should be an item from key_list, and each value the item\n",
        "at the matching position in value_list. For example,\n",
        "the following call to the method\n",
        "\n",
        "\n",
        "```\n",
        "k = [\"AL\", \"AK\", \"AZ\", \"AR\"]\n",
        "l = [\"Alabama\", \"Alaska\", \"Arizona\", \"Arkansas\"]\n",
        "make_dict(k, l)\n",
        "```\n",
        "should result in a dictionary being returned as follows:\n",
        "\n",
        "\n",
        "```\n",
        "{'AL': 'Alabama', 'AK': 'Alaska', 'AZ': 'Arizona', 'AR': 'Arkansas'}\n",
        "```\n",
        "\n",
        "\n"
      ],
      "metadata": {
        "id": "0GIffcsrX7YK"
      }
    },
    {
      "cell_type": "code",
      "source": [
        "#Name\n",
        "#Date\n",
        "#Dictionaries Question 5"
      ],
      "metadata": {
        "id": "sDIzNURXYQuj"
      },
      "execution_count": null,
      "outputs": []
    },
    {
      "cell_type": "markdown",
      "source": [
        "#Question 6\n",
        "Write a method swap_values that has three parameters:\n",
        "dList, key1, and key2. The method should take the value\n",
        "in the dictionary dList stored with a key of key1 and\n",
        "swap it with the value stored with a key of key2.\n",
        "\n",
        "For example, the following call to the method:\n",
        "\n",
        "```\n",
        "positions = {\"C\": \"Anja\", \"PF\": \"Jiang\", \"SF\": \"Micah\", \"PG\": \"Devi\", \"SG\": \"Maria\"}\n",
        "swap_values(positions, \"C\", \"PF\")\n",
        "```\n",
        "should change the dictionary positions so it is now the following:\n",
        "```\n",
        "{'C': 'Jiang', 'PF': 'Anja', 'SF': 'Micah', 'PG': 'Devi', 'SG': 'Maria'}\n",
        "```"
      ],
      "metadata": {
        "id": "-kf5B39lYQd6"
      }
    }
  ]
}