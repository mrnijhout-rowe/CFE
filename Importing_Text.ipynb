{
  "nbformat": 4,
  "nbformat_minor": 0,
  "metadata": {
    "colab": {
      "provenance": [],
      "authorship_tag": "ABX9TyPXtAfQdBRjeLUWq5W6jIRB",
      "include_colab_link": true
    },
    "kernelspec": {
      "name": "python3",
      "display_name": "Python 3"
    },
    "language_info": {
      "name": "python"
    }
  },
  "cells": [
    {
      "cell_type": "markdown",
      "metadata": {
        "id": "view-in-github",
        "colab_type": "text"
      },
      "source": [
        "<a href=\"https://colab.research.google.com/github/mrnijhout-rowe/CFE/blob/main/Importing_Text.ipynb\" target=\"_parent\"><img src=\"https://colab.research.google.com/assets/colab-badge.svg\" alt=\"Open In Colab\"/></a>"
      ]
    },
    {
      "cell_type": "markdown",
      "source": [
        "# Working with Text Files in Python\n",
        "\n",
        "## Upload Your File\n",
        "\n",
        "Before starting this activity, follow these steps to upload the text file (`this_is_text.txt`) into your Google Colab environment:\n",
        "\n",
        "1. In your Colab notebook, click on the **folder icon** in the left sidebar.\n",
        "2. Click the **Upload** icon (the arrow pointing upward).\n",
        "3. Select the file named **`this_is_text.txt`** that I shared with you.\n",
        "\n",
        "\n",
        "You're now ready for the first activity!\n",
        "\n",
        "---\n",
        "\n",
        "## 🔹**Read and Print the Contents of a File**\n",
        "\n",
        "**Instructions:**  \n",
        "In the code cell below, look at the Python code\n",
        "\n",
        "- First it opens the file `this_is_text.txt` and calls it `f` This is arbitrary, you can call it anything.\n",
        "- Then it reads its contents into a string.\n",
        "- What is the name of the string variable it creates?\n",
        "\n",
        "\n",
        "**Now, add code to print the text file's contents to the screen**\n",
        "\n",
        "👇 **Try writing your code below:**"
      ],
      "metadata": {
        "id": "xRn3zc3tzeBU"
      }
    },
    {
      "cell_type": "code",
      "source": [
        "# Open the file and read it into a string\n",
        "with open(\"this_is_text.txt\") as f:\n",
        "    text_from_file = f.read()\n",
        "\n",
        "# Print the contents of the string\n",
        "\n"
      ],
      "metadata": {
        "id": "2HvGzztAzv2v"
      },
      "execution_count": 6,
      "outputs": []
    },
    {
      "cell_type": "markdown",
      "source": [
        "## 🔹 Count and Print the Number of Characters in the File\n",
        "\n",
        "**Instructions:**\n",
        "\n",
        "Now, let's find out how many characters are in the file!\n",
        "\n",
        "We will use the `read()` method and the built in `len()` function.\n",
        "\n",
        "- The `read()` method reads the contents of the entire file into a single string.\n",
        "- The built-in `len()` function can be called on a string to calculate its length (number of characters).\n",
        "\n",
        "**Your task is to add code to print the total number of characters in the file.**\n",
        "\n",
        "\n",
        "👇 **Try writing your code below:**"
      ],
      "metadata": {
        "id": "LNYLf3zapwoH"
      }
    },
    {
      "cell_type": "code",
      "source": [
        "with open(\"this_is_text.txt\") as f:\n",
        "    text_from_file = f.read()\n",
        "\n",
        "# Add code here to print the number of characters\n",
        "# Hint: We've already created a string with the\n",
        "# text, so you are just trying to find the length\n",
        "# of that string."
      ],
      "metadata": {
        "id": "cIX7EH4qokbv"
      },
      "execution_count": null,
      "outputs": []
    },
    {
      "cell_type": "markdown",
      "source": [
        "## 🔹 Count and Print the Number of Lines in the File\n",
        "\n",
        "**Instructions:**\n",
        "\n",
        "In this exercise, you'll learn how to count and print the total number of lines present in your text file.  \n",
        "\n",
        "We'll use the `readlines()` method.  \n",
        "\n",
        "- `readlines()` reads the lines of the file into a list. Each element of the list is a string that contains a single line from the file.  \n",
        "- The built-in `len()` function returns the number of items in an object, so calling it on the list of lines will give you the number of lines.\n",
        "\n",
        "**Your task is to add code to print the number of lines in the file.**\n",
        "\n",
        "👇 **Try writing your code below:**\n",
        "\n"
      ],
      "metadata": {
        "id": "YFOgtmxQ0Ft9"
      }
    },
    {
      "source": [
        "with open(\"this_is_text.txt\") as f:\n",
        "    lines = f.readlines()\n",
        "\n",
        "# Add code here to print the number of lines\n",
        "# If you do this correctly this should print\n",
        "# an integer, nothing else\n",
        "# Re-read the directions if you get stuck!\n"
      ],
      "cell_type": "code",
      "metadata": {
        "id": "evvN1Jo5ocDe"
      },
      "execution_count": 8,
      "outputs": []
    },
    {
      "cell_type": "markdown",
      "source": [
        "## 🔹 Splitting Text into Words\n",
        "## Upload The Next File\n",
        "\n",
        "Before starting this activity, you will need to add the file `clean_text.txt` to your files. For this file I have changed all the letters to lower case and removed all of the punctuation; you already know how to make strings lowercase and you will learn more about \"cleaning\" files later.\n",
        "Follow the same directions you did for uploading the `this_is_text.txt` file.\n",
        "\n",
        "You're now ready for the first activity!\n",
        "\n",
        "**Instructions:**\n",
        "\n",
        "In this exercise, we'll learn how to split a text file into individual words. We'll use the file `clean_text.txt` for this task.\n",
        "\n",
        "We'll achieve this by using the `read()` method to read the entire file content into a single string and then the `split()` method to split the string into a list of words.\n",
        "\n",
        "- The `read()` method, as you know, reads the contents of the entire file into a single string.\n",
        "- The `split()` method, when called on a string, splits it into a list of substrings based on spaces (by default).\n",
        "\n",
        "**Your task is to write code to:**\n",
        "1. Read the contents of \"clean_text.txt\" into a string.\n",
        "2. Split the string into a list of words.\n",
        "3. Store the list of words in a variable named `words`.\n",
        "\n",
        "*Don't be afraid to play around a little, for example you can print out the list of words to see how it looks.*\n",
        "\n",
        "👇 **Try writing your code below:**"
      ],
      "metadata": {
        "id": "Oon_bkDFt2-5"
      }
    },
    {
      "cell_type": "code",
      "source": [
        "# No starter code this time, sorry!\n",
        "# Remember to start by opening and\n",
        "# reading your text file, remember\n",
        "# it is no longer 'this_is_text.txt'\n"
      ],
      "metadata": {
        "id": "TE3scs0ut_sA"
      },
      "execution_count": null,
      "outputs": []
    },
    {
      "cell_type": "markdown",
      "source": [
        "## 🔹 Creating a Dictionary of Word Counts\n",
        "\n",
        "***Hint: This exercise is A LOT like the Banana problem in the \"Getting Started With Dictionaries\" problem set. If you go open Google Colab in a different tab you can open that notebook and take a look at it.***\n",
        "\n",
        "**Instructions:**\n",
        "\n",
        "In this exercise, we'll combine what we've learned about splitting text into words and using dictionaries. Our goal is to create a dictionary where the **keys** are the individual words from the file \"clean_text.txt\" and the **values** are the number of times each word appears in the file.\n",
        "\n",
        "We'll achieve this by following these steps:\n",
        "\n",
        "1.  **Read and Split:** Read the contents of \"clean_text.txt\" into a string and split it into a list of words, just like you did in the previous exercise.\n",
        "2.  **Create an Empty Dictionary:** Start with an empty dictionary to store our word counts.\n",
        "3.  **Iterate and Count:** Loop through each word in the list of words.\n",
        "    *   If the word is already a key in the dictionary, increment its count by 1.\n",
        "    *   If the word is not yet in the dictionary, add it as a key with a count of 1.\n",
        "4.  **Print the Dictionary:** Finally, print the dictionary to see the word counts.\n",
        "\n",
        "**Example:**\n",
        "\n",
        "If the file \"clean_text.txt\" contains the text: \"the quick brown fox jumps over the lazy dog the\", then the resulting dictionary should look something like this:\n",
        "```python\n",
        "python {'the': 3, 'quick': 1, 'brown': 1, 'fox': 1, 'jumps': 1, 'over': 1, 'lazy': 1, 'dog': 1}\n",
        "```\n",
        "**Your Task:**\n",
        "\n",
        "Write the code to implement these steps and create the dictionary of word counts from \"clean_text.txt\".\n",
        "\n",
        "*Hint: Remember to use the `get()` method of dictionaries to check for the existence of a key and provide a default value if it's not found.*\n",
        "\n",
        "👇 **Try writing your code below:**"
      ],
      "metadata": {
        "id": "IWfPkwIXv67L"
      }
    },
    {
      "cell_type": "code",
      "source": [
        "# Good luck! Leave lots of comments\n",
        "# explaining what your code does!"
      ],
      "metadata": {
        "id": "n3OFyViQvVgK"
      },
      "execution_count": null,
      "outputs": []
    }
  ]
}